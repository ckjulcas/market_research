{
 "cells": [
  {
   "cell_type": "code",
   "execution_count": null,
   "metadata": {},
   "outputs": [],
   "source": []
  },
  {
   "cell_type": "code",
   "execution_count": null,
   "metadata": {},
   "outputs": [],
   "source": []
  },
  {
   "cell_type": "code",
   "execution_count": 334,
   "metadata": {},
   "outputs": [],
   "source": [
    "import pandas as pd"
   ]
  },
  {
   "cell_type": "code",
   "execution_count": 401,
   "metadata": {
    "scrolled": true
   },
   "outputs": [
    {
     "data": {
      "text/plain": [
       "Index(['ANO_EJE', 'SECTOR', 'DESC_SECTOR', 'PLIEGO', 'DESC_PLIEGO', 'SECEJEC',\n",
       "       'EJECUTORA', 'DESC_EJECUTORA', 'TIPO_UNIDAD', 'GRUPO_ENTIDAD',\n",
       "       'RUC_EJEC', 'ESTADO', 'UBIGEO', 'DEPARTAMENTO', 'PROVINCIA',\n",
       "       'DISTRITO'],\n",
       "      dtype='object')"
      ]
     },
     "execution_count": 401,
     "metadata": {},
     "output_type": "execute_result"
    }
   ],
   "source": [
    "ent = pd.read_excel('data\\maestro_entidades.xls')\n",
    "ent.columns"
   ]
  },
  {
   "cell_type": "code",
   "execution_count": 402,
   "metadata": {},
   "outputs": [
    {
     "name": "stdout",
     "output_type": "stream",
     "text": [
      "first data\\seace2.xls (30806, 30)\n",
      "data\\seace2.xls (30806, 30)\n",
      "first data\\seace3.xls (3925, 30)\n",
      "data\\seace3.xls (34731, 30)\n"
     ]
    }
   ],
   "source": [
    "data = ['data\\seace2.xls','data\\seace3.xls']\n",
    "df = pd.DataFrame()\n",
    "for d in data:\n",
    "    ddff = pd.read_excel(d)\n",
    "    print('first',d, ddff.shape)\n",
    "    df = df.append(ddff)\n",
    "    print(d, df.shape)\n"
   ]
  },
  {
   "cell_type": "code",
   "execution_count": 403,
   "metadata": {},
   "outputs": [
    {
     "data": {
      "text/plain": [
       "(34731, 30)"
      ]
     },
     "execution_count": 403,
     "metadata": {},
     "output_type": "execute_result"
    }
   ],
   "source": [
    "df.shape"
   ]
  },
  {
   "cell_type": "code",
   "execution_count": 404,
   "metadata": {},
   "outputs": [],
   "source": [
    "names = ['dato', 'información', 'base de', 'bases de', 'tablero', 'visualización', 'seguimiento', \n",
    "         'monitoreo','analítico', 'analítica', 'gobierno digital', 'interoperabilidad', 'indicador',\n",
    "        'tableau', 'power bi', 'airtable', 'etl', 'gis ', 'oracle', 'inteligencia de negocios', \n",
    "         'inteligencia artificial', 'nube', 'servidor', 'appdynamics']\n",
    "\n",
    "exclude = ['oxidante', 'condecoraci', 'electrobomba', 'bombeo', 'transmisión', 'generador', 'internet', 'lares',\n",
    "          'patolog', 'calca', 'desinfectan', 'anestesi', 'lavander', 'feromona', 'gas licuado', 'tarwi', 'biológic',\n",
    "          'mandil', 'inflamación', 'material aéreo', 'tableros eléctrico', 'tablero eléctrico', 'signos vitales',\n",
    "           'pacientes', 'oximetro', 'sismo', 'infanter', 'rollos de malla', 'tableros de distribuci', 'mosca ', \n",
    "          'lamina de acero', 'intracraneal', 'guano', 'inspector', 'combustibl', 'móvil', 'pruebas rápidas',\n",
    "          'póliza', 'reactiv', 'irrigación', 'enlace de com', 'tableros de tiza', 'ioarr', 'inspector', 'cats',\n",
    "          'camioneta', 'arqueológico', 'personal superior', 'eett', 'infantería', 'servicio de mantenimien',\n",
    "          'tramo', 'carretera', 'sevicio de transporte', 'sim card', 'hemocultivo', 'alimenticio', 'trifasico',\n",
    "          'servicio de impresión', 'autopista']"
   ]
  },
  {
   "cell_type": "code",
   "execution_count": 405,
   "metadata": {},
   "outputs": [
    {
     "data": {
      "text/plain": [
       "Index(['SECEJEC', 'CODIGOCONVOCATORIA', 'RUCENTIDADCONVOCANTE',\n",
       "       'ENTIDADCONVOCANTE', 'RUCENTIDADCONTRATANTE', 'ENTIDADCONTRATANTE',\n",
       "       'PROCESO', 'NUMEROCONVOCATORIA', 'DESCRIPCIONPROCESO', 'CODIGOCONTRATO',\n",
       "       'DESCRIPCIONCONTRATO', 'NUMCONTRATO', 'RUCCONTRATISTA', 'CONTRATISTA',\n",
       "       'RUCDESTINATARIOPAGO', 'DESTINATARIOPAGO', 'FECHACONVOCATORIA',\n",
       "       'FECHASUSCRIPCIONCONTRATO', 'FECHAVIGENCIAINICIAL',\n",
       "       'FECHAVIGENCIAFINAL', 'FECHAVIGENCIAFINACTUALIZADA',\n",
       "       'FECHAPUBLICACIONCONTRATO', 'MONEDA', 'MONTOCONTRATADOTOTAL', 'DOCURL',\n",
       "       'ESCONSORCIO', 'MONTOADICIONAL', 'MONTOREDUCCION',\n",
       "       'MONTOCOMPLEMENTARIO', 'MONTOPRORROGA'],\n",
       "      dtype='object')"
      ]
     },
     "execution_count": 405,
     "metadata": {},
     "output_type": "execute_result"
    }
   ],
   "source": [
    "df.columns"
   ]
  },
  {
   "cell_type": "code",
   "execution_count": 406,
   "metadata": {},
   "outputs": [],
   "source": [
    "df['DESCRIPCIONPROCESO'] = df['DESCRIPCIONPROCESO'].str.lower()"
   ]
  },
  {
   "cell_type": "code",
   "execution_count": null,
   "metadata": {},
   "outputs": [],
   "source": []
  },
  {
   "cell_type": "code",
   "execution_count": 407,
   "metadata": {},
   "outputs": [],
   "source": [
    "df['filtro']=0\n",
    "for n in names:\n",
    "    df[n] = df['DESCRIPCIONPROCESO'].str.contains(n)\n",
    "    df['filtro']+=df[n] "
   ]
  },
  {
   "cell_type": "code",
   "execution_count": 408,
   "metadata": {},
   "outputs": [],
   "source": [
    "df['exclude']=0\n",
    "\n",
    "for e in exclude:\n",
    "    df['temp']=0\n",
    "    df['temp'] = df['DESCRIPCIONPROCESO'].str.contains(e)\n",
    "    df['exclude'] +=df['temp']\n",
    "    df.drop('temp', axis = 1)"
   ]
  },
  {
   "cell_type": "code",
   "execution_count": 409,
   "metadata": {},
   "outputs": [
    {
     "data": {
      "text/html": [
       "<div>\n",
       "<style scoped>\n",
       "    .dataframe tbody tr th:only-of-type {\n",
       "        vertical-align: middle;\n",
       "    }\n",
       "\n",
       "    .dataframe tbody tr th {\n",
       "        vertical-align: top;\n",
       "    }\n",
       "\n",
       "    .dataframe thead th {\n",
       "        text-align: right;\n",
       "    }\n",
       "</style>\n",
       "<table border=\"1\" class=\"dataframe\">\n",
       "  <thead>\n",
       "    <tr style=\"text-align: right;\">\n",
       "      <th></th>\n",
       "      <th>SECEJEC</th>\n",
       "      <th>CODIGOCONVOCATORIA</th>\n",
       "      <th>RUCENTIDADCONVOCANTE</th>\n",
       "      <th>ENTIDADCONVOCANTE</th>\n",
       "      <th>RUCENTIDADCONTRATANTE</th>\n",
       "      <th>ENTIDADCONTRATANTE</th>\n",
       "      <th>PROCESO</th>\n",
       "      <th>NUMEROCONVOCATORIA</th>\n",
       "      <th>DESCRIPCIONPROCESO</th>\n",
       "      <th>CODIGOCONTRATO</th>\n",
       "      <th>...</th>\n",
       "      <th>etl</th>\n",
       "      <th>gis</th>\n",
       "      <th>oracle</th>\n",
       "      <th>inteligencia de negocios</th>\n",
       "      <th>inteligencia artificial</th>\n",
       "      <th>nube</th>\n",
       "      <th>servidor</th>\n",
       "      <th>appdynamics</th>\n",
       "      <th>exclude</th>\n",
       "      <th>temp</th>\n",
       "    </tr>\n",
       "  </thead>\n",
       "  <tbody>\n",
       "    <tr>\n",
       "      <th>0</th>\n",
       "      <td>NaN</td>\n",
       "      <td>277180</td>\n",
       "      <td>20337101276</td>\n",
       "      <td>SERVICIO DE ADMINISTRACION TRIBUTARIA - LIMA</td>\n",
       "      <td>20337101276</td>\n",
       "      <td>SERVICIO DE ADMINISTRACION TRIBUTARIA - LIMA</td>\n",
       "      <td>DIRECTA-PROC-5-2016-SAT-1</td>\n",
       "      <td>1.0</td>\n",
       "      <td>servicio de arrendamiento de local zona este d...</td>\n",
       "      <td>1044980</td>\n",
       "      <td>...</td>\n",
       "      <td>False</td>\n",
       "      <td>False</td>\n",
       "      <td>False</td>\n",
       "      <td>False</td>\n",
       "      <td>False</td>\n",
       "      <td>False</td>\n",
       "      <td>False</td>\n",
       "      <td>False</td>\n",
       "      <td>0</td>\n",
       "      <td>False</td>\n",
       "    </tr>\n",
       "    <tr>\n",
       "      <th>1</th>\n",
       "      <td>NaN</td>\n",
       "      <td>387177</td>\n",
       "      <td>20100128218</td>\n",
       "      <td>PETROLEOS DEL PERU S.A.</td>\n",
       "      <td>20100128218</td>\n",
       "      <td>PETROLEOS DEL PERU S.A.</td>\n",
       "      <td>CME-PROC-44-2017-OPS / PETROPERU-1</td>\n",
       "      <td>1.0</td>\n",
       "      <td>transporte terrestre de combustibles desde pla...</td>\n",
       "      <td>1127362</td>\n",
       "      <td>...</td>\n",
       "      <td>False</td>\n",
       "      <td>False</td>\n",
       "      <td>False</td>\n",
       "      <td>False</td>\n",
       "      <td>False</td>\n",
       "      <td>False</td>\n",
       "      <td>False</td>\n",
       "      <td>False</td>\n",
       "      <td>1</td>\n",
       "      <td>False</td>\n",
       "    </tr>\n",
       "    <tr>\n",
       "      <th>2</th>\n",
       "      <td>NaN</td>\n",
       "      <td>319345</td>\n",
       "      <td>20100004675</td>\n",
       "      <td>CORPORACION PERUANA DE AEROPUERTOS Y AVIACION ...</td>\n",
       "      <td>20100004675</td>\n",
       "      <td>CORPORACION PERUANA DE AEROPUERTOS Y AVIACION ...</td>\n",
       "      <td>CP-SM-11-2016-CORPAC S.A.-1</td>\n",
       "      <td>1.0</td>\n",
       "      <td>servicio de hostigamiento y desalojo de aves y...</td>\n",
       "      <td>1087753</td>\n",
       "      <td>...</td>\n",
       "      <td>False</td>\n",
       "      <td>False</td>\n",
       "      <td>False</td>\n",
       "      <td>False</td>\n",
       "      <td>False</td>\n",
       "      <td>False</td>\n",
       "      <td>False</td>\n",
       "      <td>False</td>\n",
       "      <td>0</td>\n",
       "      <td>False</td>\n",
       "    </tr>\n",
       "    <tr>\n",
       "      <th>3</th>\n",
       "      <td>NaN</td>\n",
       "      <td>378594</td>\n",
       "      <td>20414671773</td>\n",
       "      <td>FONDO MIVIVIENDA S.A.</td>\n",
       "      <td>20414671773</td>\n",
       "      <td>FONDO MIVIVIENDA S.A.</td>\n",
       "      <td>AS-SM-13-2017-FMV-1</td>\n",
       "      <td>1.0</td>\n",
       "      <td>adquisición de material publicitario por 1 año</td>\n",
       "      <td>1115984</td>\n",
       "      <td>...</td>\n",
       "      <td>False</td>\n",
       "      <td>False</td>\n",
       "      <td>False</td>\n",
       "      <td>False</td>\n",
       "      <td>False</td>\n",
       "      <td>False</td>\n",
       "      <td>False</td>\n",
       "      <td>False</td>\n",
       "      <td>0</td>\n",
       "      <td>False</td>\n",
       "    </tr>\n",
       "    <tr>\n",
       "      <th>4</th>\n",
       "      <td>NaN</td>\n",
       "      <td>415117</td>\n",
       "      <td>20414671773</td>\n",
       "      <td>FONDO MIVIVIENDA S.A.</td>\n",
       "      <td>20414671773</td>\n",
       "      <td>FONDO MIVIVIENDA S.A.</td>\n",
       "      <td>AS-SM-23-2017-FMV-1</td>\n",
       "      <td>1.0</td>\n",
       "      <td>adquisición de tarjetas de consumo electrónica...</td>\n",
       "      <td>1139664</td>\n",
       "      <td>...</td>\n",
       "      <td>False</td>\n",
       "      <td>False</td>\n",
       "      <td>False</td>\n",
       "      <td>False</td>\n",
       "      <td>False</td>\n",
       "      <td>False</td>\n",
       "      <td>False</td>\n",
       "      <td>False</td>\n",
       "      <td>0</td>\n",
       "      <td>False</td>\n",
       "    </tr>\n",
       "  </tbody>\n",
       "</table>\n",
       "<p>5 rows × 57 columns</p>\n",
       "</div>"
      ],
      "text/plain": [
       "   SECEJEC  CODIGOCONVOCATORIA  RUCENTIDADCONVOCANTE  \\\n",
       "0      NaN              277180           20337101276   \n",
       "1      NaN              387177           20100128218   \n",
       "2      NaN              319345           20100004675   \n",
       "3      NaN              378594           20414671773   \n",
       "4      NaN              415117           20414671773   \n",
       "\n",
       "                                   ENTIDADCONVOCANTE  RUCENTIDADCONTRATANTE  \\\n",
       "0       SERVICIO DE ADMINISTRACION TRIBUTARIA - LIMA            20337101276   \n",
       "1                            PETROLEOS DEL PERU S.A.            20100128218   \n",
       "2  CORPORACION PERUANA DE AEROPUERTOS Y AVIACION ...            20100004675   \n",
       "3                              FONDO MIVIVIENDA S.A.            20414671773   \n",
       "4                              FONDO MIVIVIENDA S.A.            20414671773   \n",
       "\n",
       "                                  ENTIDADCONTRATANTE  \\\n",
       "0       SERVICIO DE ADMINISTRACION TRIBUTARIA - LIMA   \n",
       "1                            PETROLEOS DEL PERU S.A.   \n",
       "2  CORPORACION PERUANA DE AEROPUERTOS Y AVIACION ...   \n",
       "3                              FONDO MIVIVIENDA S.A.   \n",
       "4                              FONDO MIVIVIENDA S.A.   \n",
       "\n",
       "                              PROCESO  NUMEROCONVOCATORIA  \\\n",
       "0           DIRECTA-PROC-5-2016-SAT-1                 1.0   \n",
       "1  CME-PROC-44-2017-OPS / PETROPERU-1                 1.0   \n",
       "2         CP-SM-11-2016-CORPAC S.A.-1                 1.0   \n",
       "3                 AS-SM-13-2017-FMV-1                 1.0   \n",
       "4                 AS-SM-23-2017-FMV-1                 1.0   \n",
       "\n",
       "                                  DESCRIPCIONPROCESO  CODIGOCONTRATO  ...  \\\n",
       "0  servicio de arrendamiento de local zona este d...         1044980  ...   \n",
       "1  transporte terrestre de combustibles desde pla...         1127362  ...   \n",
       "2  servicio de hostigamiento y desalojo de aves y...         1087753  ...   \n",
       "3     adquisición de material publicitario por 1 año         1115984  ...   \n",
       "4  adquisición de tarjetas de consumo electrónica...         1139664  ...   \n",
       "\n",
       "     etl   gis  oracle inteligencia de negocios inteligencia artificial  \\\n",
       "0  False  False  False                    False                   False   \n",
       "1  False  False  False                    False                   False   \n",
       "2  False  False  False                    False                   False   \n",
       "3  False  False  False                    False                   False   \n",
       "4  False  False  False                    False                   False   \n",
       "\n",
       "    nube servidor appdynamics exclude   temp  \n",
       "0  False    False       False       0  False  \n",
       "1  False    False       False       1  False  \n",
       "2  False    False       False       0  False  \n",
       "3  False    False       False       0  False  \n",
       "4  False    False       False       0  False  \n",
       "\n",
       "[5 rows x 57 columns]"
      ]
     },
     "execution_count": 409,
     "metadata": {},
     "output_type": "execute_result"
    }
   ],
   "source": [
    "df.head()"
   ]
  },
  {
   "cell_type": "code",
   "execution_count": 410,
   "metadata": {},
   "outputs": [],
   "source": [
    "df['exclude'] = df['exclude'].apply(lambda x: 1 if x>0 else 0)"
   ]
  },
  {
   "cell_type": "code",
   "execution_count": 411,
   "metadata": {},
   "outputs": [],
   "source": [
    "df['filtro'] = [x*0 if y>0 else x for x,y in zip(df['filtro'], df['exclude'])]"
   ]
  },
  {
   "cell_type": "code",
   "execution_count": 412,
   "metadata": {},
   "outputs": [
    {
     "data": {
      "text/html": [
       "<div>\n",
       "<style scoped>\n",
       "    .dataframe tbody tr th:only-of-type {\n",
       "        vertical-align: middle;\n",
       "    }\n",
       "\n",
       "    .dataframe tbody tr th {\n",
       "        vertical-align: top;\n",
       "    }\n",
       "\n",
       "    .dataframe thead th {\n",
       "        text-align: right;\n",
       "    }\n",
       "</style>\n",
       "<table border=\"1\" class=\"dataframe\">\n",
       "  <thead>\n",
       "    <tr style=\"text-align: right;\">\n",
       "      <th></th>\n",
       "      <th>filtro</th>\n",
       "      <th>exclude</th>\n",
       "    </tr>\n",
       "  </thead>\n",
       "  <tbody>\n",
       "    <tr>\n",
       "      <th>0</th>\n",
       "      <td>0</td>\n",
       "      <td>0</td>\n",
       "    </tr>\n",
       "    <tr>\n",
       "      <th>1</th>\n",
       "      <td>0</td>\n",
       "      <td>1</td>\n",
       "    </tr>\n",
       "    <tr>\n",
       "      <th>2</th>\n",
       "      <td>0</td>\n",
       "      <td>0</td>\n",
       "    </tr>\n",
       "    <tr>\n",
       "      <th>3</th>\n",
       "      <td>0</td>\n",
       "      <td>0</td>\n",
       "    </tr>\n",
       "    <tr>\n",
       "      <th>4</th>\n",
       "      <td>0</td>\n",
       "      <td>0</td>\n",
       "    </tr>\n",
       "    <tr>\n",
       "      <th>...</th>\n",
       "      <td>...</td>\n",
       "      <td>...</td>\n",
       "    </tr>\n",
       "    <tr>\n",
       "      <th>3920</th>\n",
       "      <td>0</td>\n",
       "      <td>1</td>\n",
       "    </tr>\n",
       "    <tr>\n",
       "      <th>3921</th>\n",
       "      <td>0</td>\n",
       "      <td>1</td>\n",
       "    </tr>\n",
       "    <tr>\n",
       "      <th>3922</th>\n",
       "      <td>0</td>\n",
       "      <td>1</td>\n",
       "    </tr>\n",
       "    <tr>\n",
       "      <th>3923</th>\n",
       "      <td>0</td>\n",
       "      <td>0</td>\n",
       "    </tr>\n",
       "    <tr>\n",
       "      <th>3924</th>\n",
       "      <td>0</td>\n",
       "      <td>0</td>\n",
       "    </tr>\n",
       "  </tbody>\n",
       "</table>\n",
       "<p>34731 rows × 2 columns</p>\n",
       "</div>"
      ],
      "text/plain": [
       "      filtro  exclude\n",
       "0          0        0\n",
       "1          0        1\n",
       "2          0        0\n",
       "3          0        0\n",
       "4          0        0\n",
       "...      ...      ...\n",
       "3920       0        1\n",
       "3921       0        1\n",
       "3922       0        1\n",
       "3923       0        0\n",
       "3924       0        0\n",
       "\n",
       "[34731 rows x 2 columns]"
      ]
     },
     "execution_count": 412,
     "metadata": {},
     "output_type": "execute_result"
    }
   ],
   "source": [
    "df[['filtro','exclude']]"
   ]
  },
  {
   "cell_type": "code",
   "execution_count": 413,
   "metadata": {},
   "outputs": [
    {
     "data": {
      "text/plain": [
       "0    34252\n",
       "1      377\n",
       "2       81\n",
       "3       19\n",
       "4        2\n",
       "Name: filtro, dtype: int64"
      ]
     },
     "execution_count": 413,
     "metadata": {},
     "output_type": "execute_result"
    }
   ],
   "source": [
    "df['filtro'].value_counts()"
   ]
  },
  {
   "cell_type": "code",
   "execution_count": 414,
   "metadata": {
    "scrolled": true
   },
   "outputs": [
    {
     "data": {
      "text/plain": [
       "Index(['SECEJEC', 'CODIGOCONVOCATORIA', 'RUCENTIDADCONVOCANTE',\n",
       "       'ENTIDADCONVOCANTE', 'RUCENTIDADCONTRATANTE', 'ENTIDADCONTRATANTE',\n",
       "       'PROCESO', 'NUMEROCONVOCATORIA', 'DESCRIPCIONPROCESO', 'CODIGOCONTRATO',\n",
       "       'DESCRIPCIONCONTRATO', 'NUMCONTRATO', 'RUCCONTRATISTA', 'CONTRATISTA',\n",
       "       'RUCDESTINATARIOPAGO', 'DESTINATARIOPAGO', 'FECHACONVOCATORIA',\n",
       "       'FECHASUSCRIPCIONCONTRATO', 'FECHAVIGENCIAINICIAL',\n",
       "       'FECHAVIGENCIAFINAL', 'FECHAVIGENCIAFINACTUALIZADA',\n",
       "       'FECHAPUBLICACIONCONTRATO', 'MONEDA', 'MONTOCONTRATADOTOTAL', 'DOCURL',\n",
       "       'ESCONSORCIO', 'MONTOADICIONAL', 'MONTOREDUCCION',\n",
       "       'MONTOCOMPLEMENTARIO', 'MONTOPRORROGA', 'filtro', 'dato', 'información',\n",
       "       'base de', 'bases de', 'tablero', 'visualización', 'seguimiento',\n",
       "       'monitoreo', 'analítico', 'analítica', 'gobierno digital',\n",
       "       'interoperabilidad', 'indicador', 'tableau', 'power bi', 'airtable',\n",
       "       'etl', 'gis ', 'oracle', 'inteligencia de negocios',\n",
       "       'inteligencia artificial', 'nube', 'servidor', 'appdynamics', 'exclude',\n",
       "       'temp'],\n",
       "      dtype='object')"
      ]
     },
     "execution_count": 414,
     "metadata": {},
     "output_type": "execute_result"
    }
   ],
   "source": [
    "# df.drop('datos', axis=1)\n",
    "df.columns"
   ]
  },
  {
   "cell_type": "code",
   "execution_count": null,
   "metadata": {},
   "outputs": [],
   "source": []
  },
  {
   "cell_type": "code",
   "execution_count": 415,
   "metadata": {},
   "outputs": [
    {
     "data": {
      "text/plain": [
       "0    34252\n",
       "1      377\n",
       "2       81\n",
       "3       19\n",
       "4        2\n",
       "Name: filtro, dtype: int64"
      ]
     },
     "execution_count": 415,
     "metadata": {},
     "output_type": "execute_result"
    }
   ],
   "source": [
    "df['filtro'].value_counts()"
   ]
  },
  {
   "cell_type": "code",
   "execution_count": 416,
   "metadata": {},
   "outputs": [
    {
     "data": {
      "text/html": [
       "<div>\n",
       "<style scoped>\n",
       "    .dataframe tbody tr th:only-of-type {\n",
       "        vertical-align: middle;\n",
       "    }\n",
       "\n",
       "    .dataframe tbody tr th {\n",
       "        vertical-align: top;\n",
       "    }\n",
       "\n",
       "    .dataframe thead th {\n",
       "        text-align: right;\n",
       "    }\n",
       "</style>\n",
       "<table border=\"1\" class=\"dataframe\">\n",
       "  <thead>\n",
       "    <tr style=\"text-align: right;\">\n",
       "      <th></th>\n",
       "      <th>SECEJEC</th>\n",
       "      <th>CODIGOCONVOCATORIA</th>\n",
       "      <th>RUCENTIDADCONVOCANTE</th>\n",
       "      <th>ENTIDADCONVOCANTE</th>\n",
       "      <th>RUCENTIDADCONTRATANTE</th>\n",
       "      <th>ENTIDADCONTRATANTE</th>\n",
       "      <th>PROCESO</th>\n",
       "      <th>NUMEROCONVOCATORIA</th>\n",
       "      <th>DESCRIPCIONPROCESO</th>\n",
       "      <th>CODIGOCONTRATO</th>\n",
       "      <th>...</th>\n",
       "      <th>EJECUTORA</th>\n",
       "      <th>DESC_EJECUTORA</th>\n",
       "      <th>TIPO_UNIDAD</th>\n",
       "      <th>GRUPO_ENTIDAD</th>\n",
       "      <th>RUC_EJEC</th>\n",
       "      <th>ESTADO</th>\n",
       "      <th>UBIGEO</th>\n",
       "      <th>DEPARTAMENTO</th>\n",
       "      <th>PROVINCIA</th>\n",
       "      <th>DISTRITO</th>\n",
       "    </tr>\n",
       "  </thead>\n",
       "  <tbody>\n",
       "    <tr>\n",
       "      <th>0</th>\n",
       "      <td>NaN</td>\n",
       "      <td>277180</td>\n",
       "      <td>20337101276</td>\n",
       "      <td>SERVICIO DE ADMINISTRACION TRIBUTARIA - LIMA</td>\n",
       "      <td>20337101276</td>\n",
       "      <td>SERVICIO DE ADMINISTRACION TRIBUTARIA - LIMA</td>\n",
       "      <td>DIRECTA-PROC-5-2016-SAT-1</td>\n",
       "      <td>1.0</td>\n",
       "      <td>servicio de arrendamiento de local zona este d...</td>\n",
       "      <td>1044980</td>\n",
       "      <td>...</td>\n",
       "      <td>NaN</td>\n",
       "      <td>NaN</td>\n",
       "      <td>NaN</td>\n",
       "      <td>NaN</td>\n",
       "      <td>NaN</td>\n",
       "      <td>NaN</td>\n",
       "      <td>NaN</td>\n",
       "      <td>NaN</td>\n",
       "      <td>NaN</td>\n",
       "      <td>NaN</td>\n",
       "    </tr>\n",
       "    <tr>\n",
       "      <th>1</th>\n",
       "      <td>NaN</td>\n",
       "      <td>387177</td>\n",
       "      <td>20100128218</td>\n",
       "      <td>PETROLEOS DEL PERU S.A.</td>\n",
       "      <td>20100128218</td>\n",
       "      <td>PETROLEOS DEL PERU S.A.</td>\n",
       "      <td>CME-PROC-44-2017-OPS / PETROPERU-1</td>\n",
       "      <td>1.0</td>\n",
       "      <td>transporte terrestre de combustibles desde pla...</td>\n",
       "      <td>1127362</td>\n",
       "      <td>...</td>\n",
       "      <td>NaN</td>\n",
       "      <td>NaN</td>\n",
       "      <td>NaN</td>\n",
       "      <td>NaN</td>\n",
       "      <td>NaN</td>\n",
       "      <td>NaN</td>\n",
       "      <td>NaN</td>\n",
       "      <td>NaN</td>\n",
       "      <td>NaN</td>\n",
       "      <td>NaN</td>\n",
       "    </tr>\n",
       "    <tr>\n",
       "      <th>2</th>\n",
       "      <td>NaN</td>\n",
       "      <td>319345</td>\n",
       "      <td>20100004675</td>\n",
       "      <td>CORPORACION PERUANA DE AEROPUERTOS Y AVIACION ...</td>\n",
       "      <td>20100004675</td>\n",
       "      <td>CORPORACION PERUANA DE AEROPUERTOS Y AVIACION ...</td>\n",
       "      <td>CP-SM-11-2016-CORPAC S.A.-1</td>\n",
       "      <td>1.0</td>\n",
       "      <td>servicio de hostigamiento y desalojo de aves y...</td>\n",
       "      <td>1087753</td>\n",
       "      <td>...</td>\n",
       "      <td>NaN</td>\n",
       "      <td>NaN</td>\n",
       "      <td>NaN</td>\n",
       "      <td>NaN</td>\n",
       "      <td>NaN</td>\n",
       "      <td>NaN</td>\n",
       "      <td>NaN</td>\n",
       "      <td>NaN</td>\n",
       "      <td>NaN</td>\n",
       "      <td>NaN</td>\n",
       "    </tr>\n",
       "    <tr>\n",
       "      <th>3</th>\n",
       "      <td>NaN</td>\n",
       "      <td>378594</td>\n",
       "      <td>20414671773</td>\n",
       "      <td>FONDO MIVIVIENDA S.A.</td>\n",
       "      <td>20414671773</td>\n",
       "      <td>FONDO MIVIVIENDA S.A.</td>\n",
       "      <td>AS-SM-13-2017-FMV-1</td>\n",
       "      <td>1.0</td>\n",
       "      <td>adquisición de material publicitario por 1 año</td>\n",
       "      <td>1115984</td>\n",
       "      <td>...</td>\n",
       "      <td>NaN</td>\n",
       "      <td>NaN</td>\n",
       "      <td>NaN</td>\n",
       "      <td>NaN</td>\n",
       "      <td>NaN</td>\n",
       "      <td>NaN</td>\n",
       "      <td>NaN</td>\n",
       "      <td>NaN</td>\n",
       "      <td>NaN</td>\n",
       "      <td>NaN</td>\n",
       "    </tr>\n",
       "    <tr>\n",
       "      <th>4</th>\n",
       "      <td>NaN</td>\n",
       "      <td>415117</td>\n",
       "      <td>20414671773</td>\n",
       "      <td>FONDO MIVIVIENDA S.A.</td>\n",
       "      <td>20414671773</td>\n",
       "      <td>FONDO MIVIVIENDA S.A.</td>\n",
       "      <td>AS-SM-23-2017-FMV-1</td>\n",
       "      <td>1.0</td>\n",
       "      <td>adquisición de tarjetas de consumo electrónica...</td>\n",
       "      <td>1139664</td>\n",
       "      <td>...</td>\n",
       "      <td>NaN</td>\n",
       "      <td>NaN</td>\n",
       "      <td>NaN</td>\n",
       "      <td>NaN</td>\n",
       "      <td>NaN</td>\n",
       "      <td>NaN</td>\n",
       "      <td>NaN</td>\n",
       "      <td>NaN</td>\n",
       "      <td>NaN</td>\n",
       "      <td>NaN</td>\n",
       "    </tr>\n",
       "  </tbody>\n",
       "</table>\n",
       "<p>5 rows × 72 columns</p>\n",
       "</div>"
      ],
      "text/plain": [
       "   SECEJEC  CODIGOCONVOCATORIA  RUCENTIDADCONVOCANTE  \\\n",
       "0      NaN              277180           20337101276   \n",
       "1      NaN              387177           20100128218   \n",
       "2      NaN              319345           20100004675   \n",
       "3      NaN              378594           20414671773   \n",
       "4      NaN              415117           20414671773   \n",
       "\n",
       "                                   ENTIDADCONVOCANTE  RUCENTIDADCONTRATANTE  \\\n",
       "0       SERVICIO DE ADMINISTRACION TRIBUTARIA - LIMA            20337101276   \n",
       "1                            PETROLEOS DEL PERU S.A.            20100128218   \n",
       "2  CORPORACION PERUANA DE AEROPUERTOS Y AVIACION ...            20100004675   \n",
       "3                              FONDO MIVIVIENDA S.A.            20414671773   \n",
       "4                              FONDO MIVIVIENDA S.A.            20414671773   \n",
       "\n",
       "                                  ENTIDADCONTRATANTE  \\\n",
       "0       SERVICIO DE ADMINISTRACION TRIBUTARIA - LIMA   \n",
       "1                            PETROLEOS DEL PERU S.A.   \n",
       "2  CORPORACION PERUANA DE AEROPUERTOS Y AVIACION ...   \n",
       "3                              FONDO MIVIVIENDA S.A.   \n",
       "4                              FONDO MIVIVIENDA S.A.   \n",
       "\n",
       "                              PROCESO  NUMEROCONVOCATORIA  \\\n",
       "0           DIRECTA-PROC-5-2016-SAT-1                 1.0   \n",
       "1  CME-PROC-44-2017-OPS / PETROPERU-1                 1.0   \n",
       "2         CP-SM-11-2016-CORPAC S.A.-1                 1.0   \n",
       "3                 AS-SM-13-2017-FMV-1                 1.0   \n",
       "4                 AS-SM-23-2017-FMV-1                 1.0   \n",
       "\n",
       "                                  DESCRIPCIONPROCESO  CODIGOCONTRATO  ...  \\\n",
       "0  servicio de arrendamiento de local zona este d...         1044980  ...   \n",
       "1  transporte terrestre de combustibles desde pla...         1127362  ...   \n",
       "2  servicio de hostigamiento y desalojo de aves y...         1087753  ...   \n",
       "3     adquisición de material publicitario por 1 año         1115984  ...   \n",
       "4  adquisición de tarjetas de consumo electrónica...         1139664  ...   \n",
       "\n",
       "  EJECUTORA DESC_EJECUTORA TIPO_UNIDAD GRUPO_ENTIDAD RUC_EJEC ESTADO UBIGEO  \\\n",
       "0       NaN            NaN         NaN           NaN      NaN    NaN    NaN   \n",
       "1       NaN            NaN         NaN           NaN      NaN    NaN    NaN   \n",
       "2       NaN            NaN         NaN           NaN      NaN    NaN    NaN   \n",
       "3       NaN            NaN         NaN           NaN      NaN    NaN    NaN   \n",
       "4       NaN            NaN         NaN           NaN      NaN    NaN    NaN   \n",
       "\n",
       "  DEPARTAMENTO PROVINCIA DISTRITO  \n",
       "0          NaN       NaN      NaN  \n",
       "1          NaN       NaN      NaN  \n",
       "2          NaN       NaN      NaN  \n",
       "3          NaN       NaN      NaN  \n",
       "4          NaN       NaN      NaN  \n",
       "\n",
       "[5 rows x 72 columns]"
      ]
     },
     "execution_count": 416,
     "metadata": {},
     "output_type": "execute_result"
    }
   ],
   "source": [
    "df2 = pd.merge(df, ent, how='left', on = 'SECEJEC')\n",
    "df2.head()"
   ]
  },
  {
   "cell_type": "code",
   "execution_count": 417,
   "metadata": {},
   "outputs": [],
   "source": [
    "df2.to_csv('output/seace3.csv',index=False)"
   ]
  },
  {
   "cell_type": "code",
   "execution_count": 418,
   "metadata": {},
   "outputs": [
    {
     "data": {
      "text/plain": [
       "Index(['SECEJEC', 'CODIGOCONVOCATORIA', 'RUCENTIDADCONVOCANTE',\n",
       "       'ENTIDADCONVOCANTE', 'RUCENTIDADCONTRATANTE', 'ENTIDADCONTRATANTE',\n",
       "       'PROCESO', 'NUMEROCONVOCATORIA', 'DESCRIPCIONPROCESO', 'CODIGOCONTRATO',\n",
       "       'DESCRIPCIONCONTRATO', 'NUMCONTRATO', 'RUCCONTRATISTA', 'CONTRATISTA',\n",
       "       'RUCDESTINATARIOPAGO', 'DESTINATARIOPAGO', 'FECHACONVOCATORIA',\n",
       "       'FECHASUSCRIPCIONCONTRATO', 'FECHAVIGENCIAINICIAL',\n",
       "       'FECHAVIGENCIAFINAL', 'FECHAVIGENCIAFINACTUALIZADA',\n",
       "       'FECHAPUBLICACIONCONTRATO', 'MONEDA', 'MONTOCONTRATADOTOTAL', 'DOCURL',\n",
       "       'ESCONSORCIO', 'MONTOADICIONAL', 'MONTOREDUCCION',\n",
       "       'MONTOCOMPLEMENTARIO', 'MONTOPRORROGA', 'filtro', 'dato', 'información',\n",
       "       'base de', 'bases de', 'tablero', 'visualización', 'seguimiento',\n",
       "       'monitoreo', 'analítico', 'analítica', 'gobierno digital',\n",
       "       'interoperabilidad', 'indicador', 'tableau', 'power bi', 'airtable',\n",
       "       'etl', 'gis ', 'oracle', 'inteligencia de negocios',\n",
       "       'inteligencia artificial', 'nube', 'servidor', 'appdynamics', 'exclude',\n",
       "       'temp', 'ANO_EJE', 'SECTOR', 'DESC_SECTOR', 'PLIEGO', 'DESC_PLIEGO',\n",
       "       'EJECUTORA', 'DESC_EJECUTORA', 'TIPO_UNIDAD', 'GRUPO_ENTIDAD',\n",
       "       'RUC_EJEC', 'ESTADO', 'UBIGEO', 'DEPARTAMENTO', 'PROVINCIA',\n",
       "       'DISTRITO'],\n",
       "      dtype='object')"
      ]
     },
     "execution_count": 418,
     "metadata": {},
     "output_type": "execute_result"
    }
   ],
   "source": [
    "df2.columns"
   ]
  },
  {
   "cell_type": "markdown",
   "metadata": {},
   "source": [
    "https://public.tableau.com/profile/hatun.data#!/vizhome/mercado_16127709513360/Dashboard1?publish=yes"
   ]
  }
 ],
 "metadata": {
  "kernelspec": {
   "display_name": "Python 3",
   "language": "python",
   "name": "python3"
  },
  "language_info": {
   "codemirror_mode": {
    "name": "ipython",
    "version": 3
   },
   "file_extension": ".py",
   "mimetype": "text/x-python",
   "name": "python",
   "nbconvert_exporter": "python",
   "pygments_lexer": "ipython3",
   "version": "3.7.6"
  }
 },
 "nbformat": 4,
 "nbformat_minor": 4
}
